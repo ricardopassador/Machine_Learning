{
 "cells": [
  {
   "cell_type": "code",
   "execution_count": 1,
   "id": "f0c67cca",
   "metadata": {},
   "outputs": [],
   "source": [
    "#Importação das bibliotecas e ferramentas\n",
    "\n",
    "import pandas as pd\n",
    "import numpy as np\n",
    "import re\n",
    "import nltk\n",
    "import spacy\n",
    "import seaborn as sns\n",
    "import matplotlib.pyplot as plt\n",
    "\n",
    "from nltk.tokenize import word_tokenize\n",
    "from nltk.stem import SnowballStemmer\n",
    "from nltk.corpus import stopwords \n",
    "from unidecode import unidecode\n",
    "from gensim.models import Word2Vec, doc2vec\n",
    "\n",
    "from sklearn.model_selection import StratifiedKFold, cross_val_score, train_test_split, RandomizedSearchCV\n",
    "from sklearn.feature_extraction.text import CountVectorizer, TfidfVectorizer\n",
    "from sklearn import metrics\n",
    "from sklearn.metrics import accuracy_score, precision_score, recall_score, f1_score\n",
    "\n",
    "# Importação dos Modelos\n",
    "from sklearn.naive_bayes import MultinomialNB,BernoulliNB\n",
    "from sklearn.ensemble import RandomForestClassifier, AdaBoostClassifier\n",
    "from sklearn.tree import DecisionTreeClassifier\n",
    "from sklearn.linear_model import LogisticRegression\n",
    "from xgboost import XGBClassifier\n",
    "import lightgbm as lgb\n",
    "\n",
    "\n",
    "# Desabilitar avisos\n",
    "import warnings\n",
    "warnings.filterwarnings('ignore')"
   ]
  },
  {
   "cell_type": "code",
   "execution_count": 2,
   "id": "75676044",
   "metadata": {},
   "outputs": [],
   "source": [
    "#!pip install spacy\n",
    "#!python -m spacy download pt_core_news_lg"
   ]
  },
  {
   "cell_type": "code",
   "execution_count": 3,
   "id": "0a1f0bec",
   "metadata": {},
   "outputs": [],
   "source": [
    "#nltk.download('stopwords')\n",
    "#nltk.download('punkt')\n",
    "stopwords = set(stopwords.words('portuguese'))\n",
    "stemmer = SnowballStemmer('portuguese')\n",
    "nlp = spacy.load(\"pt_core_news_lg\")"
   ]
  },
  {
   "cell_type": "code",
   "execution_count": 4,
   "id": "8f7fe4e6",
   "metadata": {},
   "outputs": [],
   "source": [
    "#Carregando o dataset\n",
    "data = pd.read_csv('./Dados/train/Train3Classes.csv')"
   ]
  },
  {
   "cell_type": "markdown",
   "id": "07f6f97b",
   "metadata": {},
   "source": [
    "## Etapa 1 - Preparação dos Dados e Verificação de Consistência"
   ]
  },
  {
   "cell_type": "code",
   "execution_count": 5,
   "id": "ae93f34f",
   "metadata": {},
   "outputs": [
    {
     "name": "stdout",
     "output_type": "stream",
     "text": [
      "<class 'pandas.core.frame.DataFrame'>\n",
      "RangeIndex: 95000 entries, 0 to 94999\n",
      "Data columns (total 5 columns):\n",
      " #   Column      Non-Null Count  Dtype \n",
      "---  ------      --------------  ----- \n",
      " 0   id          95000 non-null  int64 \n",
      " 1   tweet_text  95000 non-null  object\n",
      " 2   tweet_date  95000 non-null  object\n",
      " 3   sentiment   95000 non-null  int64 \n",
      " 4   query_used  95000 non-null  object\n",
      "dtypes: int64(2), object(3)\n",
      "memory usage: 3.6+ MB\n"
     ]
    }
   ],
   "source": [
    "#Informações do dataset\n",
    "data.info()"
   ]
  },
  {
   "cell_type": "code",
   "execution_count": 6,
   "id": "750f9402",
   "metadata": {},
   "outputs": [
    {
     "data": {
      "text/plain": [
       "False    95000\n",
       "dtype: int64"
      ]
     },
     "execution_count": 6,
     "metadata": {},
     "output_type": "execute_result"
    }
   ],
   "source": [
    "#Verificando itens duplicados\n",
    "data.duplicated().value_counts()"
   ]
  },
  {
   "cell_type": "code",
   "execution_count": 7,
   "id": "8e8672fe",
   "metadata": {},
   "outputs": [
    {
     "data": {
      "text/plain": [
       "id     tweet_text  tweet_date  sentiment  query_used\n",
       "False  False       False       False      False         95000\n",
       "dtype: int64"
      ]
     },
     "execution_count": 7,
     "metadata": {},
     "output_type": "execute_result"
    }
   ],
   "source": [
    "#Verificando itens nulos\n",
    "data.isnull().value_counts()"
   ]
  },
  {
   "cell_type": "code",
   "execution_count": 8,
   "id": "c94ce452",
   "metadata": {},
   "outputs": [],
   "source": [
    "#Dropando as colunas que não agregam ao modelo\n",
    "data = data.drop(['id', 'tweet_date', 'query_used'], axis=1)"
   ]
  },
  {
   "cell_type": "code",
   "execution_count": 9,
   "id": "55bc8f03",
   "metadata": {},
   "outputs": [
    {
     "data": {
      "text/html": [
       "<div>\n",
       "<style scoped>\n",
       "    .dataframe tbody tr th:only-of-type {\n",
       "        vertical-align: middle;\n",
       "    }\n",
       "\n",
       "    .dataframe tbody tr th {\n",
       "        vertical-align: top;\n",
       "    }\n",
       "\n",
       "    .dataframe thead th {\n",
       "        text-align: right;\n",
       "    }\n",
       "</style>\n",
       "<table border=\"1\" class=\"dataframe\">\n",
       "  <thead>\n",
       "    <tr style=\"text-align: right;\">\n",
       "      <th></th>\n",
       "      <th>tweet_text</th>\n",
       "      <th>sentiment</th>\n",
       "    </tr>\n",
       "  </thead>\n",
       "  <tbody>\n",
       "    <tr>\n",
       "      <th>0</th>\n",
       "      <td>Rio elege maior bancada policial de sua histór...</td>\n",
       "      <td>2</td>\n",
       "    </tr>\n",
       "    <tr>\n",
       "      <th>1</th>\n",
       "      <td>fiquei tão triste quando eu vi o preço da câme...</td>\n",
       "      <td>0</td>\n",
       "    </tr>\n",
       "    <tr>\n",
       "      <th>2</th>\n",
       "      <td>Para Theresa May, seu plano para o Brexit é a ...</td>\n",
       "      <td>2</td>\n",
       "    </tr>\n",
       "    <tr>\n",
       "      <th>3</th>\n",
       "      <td>caralho eu quero proteger a danielly em um pot...</td>\n",
       "      <td>0</td>\n",
       "    </tr>\n",
       "    <tr>\n",
       "      <th>4</th>\n",
       "      <td>@SiCaetano_ viva o caos :)</td>\n",
       "      <td>1</td>\n",
       "    </tr>\n",
       "  </tbody>\n",
       "</table>\n",
       "</div>"
      ],
      "text/plain": [
       "                                          tweet_text  sentiment\n",
       "0  Rio elege maior bancada policial de sua histór...          2\n",
       "1  fiquei tão triste quando eu vi o preço da câme...          0\n",
       "2  Para Theresa May, seu plano para o Brexit é a ...          2\n",
       "3  caralho eu quero proteger a danielly em um pot...          0\n",
       "4                         @SiCaetano_ viva o caos :)          1"
      ]
     },
     "execution_count": 9,
     "metadata": {},
     "output_type": "execute_result"
    }
   ],
   "source": [
    "#Visualização Inicial\n",
    "data.head(5)"
   ]
  },
  {
   "cell_type": "markdown",
   "id": "e20afa47",
   "metadata": {},
   "source": [
    "## Etapa 2 - Análise Exploratória dos Dados"
   ]
  },
  {
   "cell_type": "code",
   "execution_count": 10,
   "id": "5f91afca",
   "metadata": {},
   "outputs": [
    {
     "name": "stdout",
     "output_type": "stream",
     "text": [
      "Valores de cada Target\n",
      "0    31696\n",
      "1    31678\n",
      "2    31626\n",
      "Name: sentiment, dtype: int64\n"
     ]
    },
    {
     "data": {
      "image/png": "[encoded data removed]",
      "text/plain": [
       "<Figure size 432x288 with 1 Axes>"
      ]
     },
     "metadata": {
      "needs_background": "light"
     },
     "output_type": "display_data"
    }
   ],
   "source": [
    "# Gráfico de balanceamento da base de dados\n",
    "sns.countplot(data['sentiment']);\n",
    "media = data['sentiment'].value_counts()\n",
    "print('Valores de cada Target')\n",
    "print(media)"
   ]
  },
  {
   "cell_type": "markdown",
   "id": "2769dab9",
   "metadata": {},
   "source": [
    "Conforme demostrado através dos valores e gráfico as classes são bem balanceadas."
   ]
  },
  {
   "cell_type": "markdown",
   "id": "9fb194bb",
   "metadata": {},
   "source": [
    "## Etapa 3 - Pré-processamento e transformações"
   ]
  },
  {
   "cell_type": "code",
   "execution_count": 11,
   "id": "1ffa482c",
   "metadata": {},
   "outputs": [],
   "source": [
    "# Pipeline - Text Preprocessing\n",
    "\n",
    "def preprocessing(string):\n",
    "    # Remove Acccent\n",
    "    string = unidecode(string)\n",
    "    ###\n",
    "    # Removes users, http addresses and special characters\n",
    "    string = re.sub(r\"(@[A-Za-z0-9]+)|([^0-9A-Za-z \\t])|(\\w+:\\/\\/\\S+)\",\" \", string)\n",
    "    # Remove Numbers\n",
    "    string = re.sub(r'\\d', '', string)\n",
    "    ###\n",
    "    # Lowercase Words\n",
    "    string = string.lower()\n",
    "    ###\n",
    "    # Word Tokenize\n",
    "    words = word_tokenize(string)\n",
    "    ###\n",
    "    # Remove Stopwords\n",
    "    filtered_words = []\n",
    "    for w in words:\n",
    "        if w not in stopwords:\n",
    "            filtered_words.append(w)\n",
    "   \n",
    "    \n",
    "    return filtered_words\n"
   ]
  },
  {
   "cell_type": "code",
   "execution_count": 12,
   "id": "e3aac65e",
   "metadata": {},
   "outputs": [],
   "source": [
    "def stemming(string):\n",
    "    # Stemming Words\n",
    "    stem_words = []\n",
    "    for w in string:\n",
    "        s_words = stemmer.stem(w)\n",
    "        stem_words.append(s_words)\n",
    "    stem_words = ' '.join(stem_words)   \n",
    "    return stem_words"
   ]
  },
  {
   "cell_type": "code",
   "execution_count": 13,
   "id": "147b47f7",
   "metadata": {},
   "outputs": [],
   "source": [
    "def lemmantizer(string):\n",
    "    # Lemmantize Words\n",
    "    lemma_words = []\n",
    "    doc = nlp(string)\n",
    "    for token in doc:\n",
    "        s_words = token.lemma_\n",
    "        lemma_words.append(s_words)\n",
    "    lemma_words = ' '.join(lemma_words)\n",
    "    return lemma_words\n"
   ]
  },
  {
   "cell_type": "code",
   "execution_count": 14,
   "id": "eec7bd92",
   "metadata": {},
   "outputs": [],
   "source": [
    "data[\"filtered_words\"] = data['tweet_text'].apply(lambda x: preprocessing(x))\n",
    "data['join_words'] = data['filtered_words'].apply(lambda x: ' '.join(x))"
   ]
  },
  {
   "cell_type": "code",
   "execution_count": 15,
   "id": "dd8c4ff9",
   "metadata": {},
   "outputs": [],
   "source": [
    "# Optei por fazer o Stemmer e o Lemmantizer separados para a avaliação\n",
    "data['stemmer'] = data['filtered_words'].apply(lambda x: stemming(x))\n",
    "data['lemmantizer'] = data['join_words'].apply(lambda x: lemmantizer(x))"
   ]
  },
  {
   "cell_type": "code",
   "execution_count": 16,
   "id": "1b48f70c",
   "metadata": {},
   "outputs": [
    {
     "data": {
      "text/html": [
       "<div>\n",
       "<style scoped>\n",
       "    .dataframe tbody tr th:only-of-type {\n",
       "        vertical-align: middle;\n",
       "    }\n",
       "\n",
       "    .dataframe tbody tr th {\n",
       "        vertical-align: top;\n",
       "    }\n",
       "\n",
       "    .dataframe thead th {\n",
       "        text-align: right;\n",
       "    }\n",
       "</style>\n",
       "<table border=\"1\" class=\"dataframe\">\n",
       "  <thead>\n",
       "    <tr style=\"text-align: right;\">\n",
       "      <th></th>\n",
       "      <th>tweet_text</th>\n",
       "      <th>sentiment</th>\n",
       "      <th>filtered_words</th>\n",
       "      <th>join_words</th>\n",
       "      <th>stemmer</th>\n",
       "      <th>lemmantizer</th>\n",
       "    </tr>\n",
       "  </thead>\n",
       "  <tbody>\n",
       "    <tr>\n",
       "      <th>0</th>\n",
       "      <td>Rio elege maior bancada policial de sua histór...</td>\n",
       "      <td>2</td>\n",
       "      <td>[rio, elege, maior, bancada, policial, historia]</td>\n",
       "      <td>rio elege maior bancada policial historia</td>\n",
       "      <td>rio eleg maior banc policial histor</td>\n",
       "      <td>rir eleger maior bancada policial historiar</td>\n",
       "    </tr>\n",
       "    <tr>\n",
       "      <th>1</th>\n",
       "      <td>fiquei tão triste quando eu vi o preço da câme...</td>\n",
       "      <td>0</td>\n",
       "      <td>[fiquei, tao, triste, vi, preco, camera]</td>\n",
       "      <td>fiquei tao triste vi preco camera</td>\n",
       "      <td>fiqu tao trist vi prec cam</td>\n",
       "      <td>ficar tao triste vir preco camera</td>\n",
       "    </tr>\n",
       "    <tr>\n",
       "      <th>2</th>\n",
       "      <td>Para Theresa May, seu plano para o Brexit é a ...</td>\n",
       "      <td>2</td>\n",
       "      <td>[theresa, may, plano, brexit, unica, opcao]</td>\n",
       "      <td>theresa may plano brexit unica opcao</td>\n",
       "      <td>theres may plan brexit unic opca</td>\n",
       "      <td>theresa may planar brexit unica opcao</td>\n",
       "    </tr>\n",
       "    <tr>\n",
       "      <th>3</th>\n",
       "      <td>caralho eu quero proteger a danielly em um pot...</td>\n",
       "      <td>0</td>\n",
       "      <td>[caralho, quero, proteger, danielly, pote, tad...</td>\n",
       "      <td>caralho quero proteger danielly pote tadinhaa</td>\n",
       "      <td>caralh quer proteg danielly pot tadinha</td>\n",
       "      <td>caralho querer proteger danielly pote tadinhaa</td>\n",
       "    </tr>\n",
       "    <tr>\n",
       "      <th>4</th>\n",
       "      <td>@SiCaetano_ viva o caos :)</td>\n",
       "      <td>1</td>\n",
       "      <td>[viva, caos]</td>\n",
       "      <td>viva caos</td>\n",
       "      <td>viv caos</td>\n",
       "      <td>vivo caos</td>\n",
       "    </tr>\n",
       "  </tbody>\n",
       "</table>\n",
       "</div>"
      ],
      "text/plain": [
       "                                          tweet_text  sentiment  \\\n",
       "0  Rio elege maior bancada policial de sua histór...          2   \n",
       "1  fiquei tão triste quando eu vi o preço da câme...          0   \n",
       "2  Para Theresa May, seu plano para o Brexit é a ...          2   \n",
       "3  caralho eu quero proteger a danielly em um pot...          0   \n",
       "4                         @SiCaetano_ viva o caos :)          1   \n",
       "\n",
       "                                      filtered_words  \\\n",
       "0   [rio, elege, maior, bancada, policial, historia]   \n",
       "1           [fiquei, tao, triste, vi, preco, camera]   \n",
       "2        [theresa, may, plano, brexit, unica, opcao]   \n",
       "3  [caralho, quero, proteger, danielly, pote, tad...   \n",
       "4                                       [viva, caos]   \n",
       "\n",
       "                                      join_words  \\\n",
       "0      rio elege maior bancada policial historia   \n",
       "1              fiquei tao triste vi preco camera   \n",
       "2           theresa may plano brexit unica opcao   \n",
       "3  caralho quero proteger danielly pote tadinhaa   \n",
       "4                                      viva caos   \n",
       "\n",
       "                                   stemmer  \\\n",
       "0      rio eleg maior banc policial histor   \n",
       "1               fiqu tao trist vi prec cam   \n",
       "2         theres may plan brexit unic opca   \n",
       "3  caralh quer proteg danielly pot tadinha   \n",
       "4                                 viv caos   \n",
       "\n",
       "                                      lemmantizer  \n",
       "0     rir eleger maior bancada policial historiar  \n",
       "1               ficar tao triste vir preco camera  \n",
       "2           theresa may planar brexit unica opcao  \n",
       "3  caralho querer proteger danielly pote tadinhaa  \n",
       "4                                       vivo caos  "
      ]
     },
     "execution_count": 16,
     "metadata": {},
     "output_type": "execute_result"
    }
   ],
   "source": [
    "data.head()"
   ]
  },
  {
   "cell_type": "code",
   "execution_count": 17,
   "id": "298d53f6",
   "metadata": {},
   "outputs": [],
   "source": [
    "# Fracionando o dataframe para a execução dos testes\n",
    "data_sample = data.sample(frac=0.1, replace=False)"
   ]
  },
  {
   "cell_type": "code",
   "execution_count": 18,
   "id": "b8ad971c",
   "metadata": {},
   "outputs": [
    {
     "name": "stdout",
     "output_type": "stream",
     "text": [
      "Valores de cada Target\n",
      "0    3185\n",
      "1    3163\n",
      "2    3152\n",
      "Name: sentiment, dtype: int64\n"
     ]
    },
    {
     "data": {
      "image/png": "[encoded data removed]",
      "text/plain": [
       "<Figure size 432x288 with 1 Axes>"
      ]
     },
     "metadata": {
      "needs_background": "light"
     },
     "output_type": "display_data"
    }
   ],
   "source": [
    "# Gráfico de balanceamento da base de dados da amostra\n",
    "sns.countplot(data_sample['sentiment']);\n",
    "media = data_sample['sentiment'].value_counts()\n",
    "print('Valores de cada Target')\n",
    "print(media)"
   ]
  },
  {
   "cell_type": "code",
   "execution_count": 19,
   "id": "c1b4a74f",
   "metadata": {},
   "outputs": [],
   "source": [
    "# X e y com Stemmer\n",
    "X = data_sample['stemmer']\n",
    "y = data_sample['sentiment']\n",
    "\n",
    "# X e y com Lemmantizer\n",
    "X1 = data_sample['lemmantizer']\n",
    "y1 = data_sample['sentiment']"
   ]
  },
  {
   "cell_type": "code",
   "execution_count": 20,
   "id": "b792c15d",
   "metadata": {},
   "outputs": [],
   "source": [
    "#Separando em train e test para ambos processamentos (Stemmer e Lemmantizer)\n",
    "X_train, X_test, y_train, y_test = train_test_split(X, \n",
    "                                                    y, \n",
    "                                                    test_size = 0.3, \n",
    "                                                    random_state = 42,\n",
    "                                                    stratify=y)\n",
    "\n",
    "X1_train, X1_test, y1_train, y1_test = train_test_split(X1, \n",
    "                                                        y1, \n",
    "                                                        test_size = 0.3, \n",
    "                                                        random_state = 42,\n",
    "                                                        stratify=y)"
   ]
  },
  {
   "cell_type": "code",
   "execution_count": 21,
   "id": "75080108",
   "metadata": {},
   "outputs": [],
   "source": [
    "#Lista de Modelos de Machine Learning\n",
    "random_seed = 42\n",
    "\n",
    "list_models = [\n",
    "{'model_name': 'Logistic Regression',\n",
    " 'estimator' : LogisticRegression(random_state = random_seed, solver = 'lbfgs')},\n",
    "{'model_name': 'Decision Tree',\n",
    " 'estimator' : DecisionTreeClassifier(random_state = random_seed)},\n",
    "{'model_name': 'Random Forest',\n",
    " 'estimator' : RandomForestClassifier(random_state = random_seed)}, \n",
    "{'model_name': 'NBMultinomial',\n",
    " 'estimator' : MultinomialNB(alpha=1.0,fit_prior=True)},\n",
    "{'model_name': 'NBBernoulli',\n",
    " 'estimator' : BernoulliNB(alpha=1.0,fit_prior=True)},\n",
    "]"
   ]
  },
  {
   "cell_type": "code",
   "execution_count": 22,
   "id": "95502988",
   "metadata": {},
   "outputs": [],
   "source": [
    "# Função de Métricas para os Modelos\n",
    "def test_models_plot_roc_auc_curve(model_list, col_model_name, col_model, X_train, X_test, y_train, y_test):\n",
    "    for mdl in model_list:\n",
    "        model = mdl[col_model]\n",
    "        model.fit(X_train, y_train)\n",
    "        y_predict = model.predict(X_test)\n",
    "        print(\"Model      : %s\" % mdl[col_model_name])\n",
    "        print(\"Accuracy   : %0.4f \" %  accuracy_score(y_test, y_predict))\n",
    "        print(\"Precision  : %0.4f \" % precision_score(y_test, y_predict, average='weighted'))\n",
    "        print(\"Recall     : %0.4f \" % recall_score(y_test, y_predict, average='weighted'))\n",
    "        print(\"F1 - Score : %0.4f \" % f1_score(y_test, y_predict, average='weighted'))\n",
    "        print(\"======================\")"
   ]
  },
  {
   "cell_type": "markdown",
   "id": "efd75dc8",
   "metadata": {},
   "source": [
    "### CountVectorizer"
   ]
  },
  {
   "cell_type": "code",
   "execution_count": 23,
   "id": "9b1808ee",
   "metadata": {},
   "outputs": [],
   "source": [
    "#Instanciando o Modelo\n",
    "cv = CountVectorizer()"
   ]
  },
  {
   "cell_type": "code",
   "execution_count": 24,
   "id": "5c59e07f",
   "metadata": {},
   "outputs": [],
   "source": [
    "#Normalizando os dados\n",
    "X_train_cv = cv.fit_transform(X_train).toarray()\n",
    "X_test_cv = cv.transform(X_test).toarray()\n",
    "\n",
    "X1_train_cv = cv.fit_transform(X1_train).toarray()\n",
    "X1_test_cv = cv.transform(X1_test).toarray()"
   ]
  },
  {
   "cell_type": "code",
   "execution_count": 25,
   "id": "a42a3ad2",
   "metadata": {},
   "outputs": [
    {
     "name": "stdout",
     "output_type": "stream",
     "text": [
      "Model      : Logistic Regression\n",
      "Accuracy   : 0.7512 \n",
      "Precision  : 0.7537 \n",
      "Recall     : 0.7512 \n",
      "F1 - Score : 0.7522 \n",
      "======================\n",
      "Model      : Decision Tree\n",
      "Accuracy   : 0.6804 \n",
      "Precision  : 0.6792 \n",
      "Recall     : 0.6804 \n",
      "F1 - Score : 0.6769 \n",
      "======================\n",
      "Model      : Random Forest\n",
      "Accuracy   : 0.7074 \n",
      "Precision  : 0.7112 \n",
      "Recall     : 0.7074 \n",
      "F1 - Score : 0.7041 \n",
      "======================\n",
      "Model      : NBMultinomial\n",
      "Accuracy   : 0.7509 \n",
      "Precision  : 0.7496 \n",
      "Recall     : 0.7509 \n",
      "F1 - Score : 0.7496 \n",
      "======================\n",
      "Model      : NBBernoulli\n",
      "Accuracy   : 0.7305 \n",
      "Precision  : 0.7463 \n",
      "Recall     : 0.7305 \n",
      "F1 - Score : 0.7293 \n",
      "======================\n"
     ]
    }
   ],
   "source": [
    "#Testando todos os modelos com Stemmer\n",
    "test_models_plot_roc_auc_curve(list_models,\n",
    "                               \"model_name\",\n",
    "                               \"estimator\",\n",
    "                               X_train_cv,\n",
    "                               X_test_cv,\n",
    "                               y_train,\n",
    "                               y_test)"
   ]
  },
  {
   "cell_type": "code",
   "execution_count": 26,
   "id": "d5453771",
   "metadata": {},
   "outputs": [
    {
     "name": "stdout",
     "output_type": "stream",
     "text": [
      "Model      : Logistic Regression\n",
      "Accuracy   : 0.7435 \n",
      "Precision  : 0.7482 \n",
      "Recall     : 0.7435 \n",
      "F1 - Score : 0.7453 \n",
      "======================\n",
      "Model      : Decision Tree\n",
      "Accuracy   : 0.6625 \n",
      "Precision  : 0.6649 \n",
      "Recall     : 0.6625 \n",
      "F1 - Score : 0.6612 \n",
      "======================\n",
      "Model      : Random Forest\n",
      "Accuracy   : 0.7105 \n",
      "Precision  : 0.7193 \n",
      "Recall     : 0.7105 \n",
      "F1 - Score : 0.7106 \n",
      "======================\n",
      "Model      : NBMultinomial\n",
      "Accuracy   : 0.7453 \n",
      "Precision  : 0.7454 \n",
      "Recall     : 0.7453 \n",
      "F1 - Score : 0.7447 \n",
      "======================\n",
      "Model      : NBBernoulli\n",
      "Accuracy   : 0.7242 \n",
      "Precision  : 0.7454 \n",
      "Recall     : 0.7242 \n",
      "F1 - Score : 0.7228 \n",
      "======================\n"
     ]
    }
   ],
   "source": [
    "#Testando todos os modelos com Lemmantizer\n",
    "test_models_plot_roc_auc_curve(list_models,\n",
    "                               \"model_name\",\n",
    "                               \"estimator\",\n",
    "                               X1_train_cv,\n",
    "                               X1_test_cv,\n",
    "                               y1_train,\n",
    "                               y1_test)"
   ]
  },
  {
   "cell_type": "markdown",
   "id": "311c8a32",
   "metadata": {},
   "source": [
    "Na execução do CountVectorizer entre o Stemmer e o Lemmantizer, comparando ambos com o melhor modelo (Logistic Regression), o processamento entre ambos é bem semelhante."
   ]
  },
  {
   "cell_type": "markdown",
   "id": "1fd9769e",
   "metadata": {},
   "source": [
    "### TF-IDF"
   ]
  },
  {
   "cell_type": "code",
   "execution_count": 27,
   "id": "e3f3a12a",
   "metadata": {},
   "outputs": [],
   "source": [
    "#Instanciando o Modelo\n",
    "tfidf = TfidfVectorizer(use_idf = True, max_features=8000)"
   ]
  },
  {
   "cell_type": "code",
   "execution_count": 28,
   "id": "0e6d87c7",
   "metadata": {},
   "outputs": [],
   "source": [
    "#Normalizando os dados\n",
    "X_train_tfidf = tfidf.fit_transform(X_train).todense()\n",
    "X_test_tfidf  = tfidf.transform(X_test).todense()\n",
    "\n",
    "X1_train_tfidf = tfidf.fit_transform(X1_train).todense()\n",
    "X1_test_tfidf  = tfidf.transform(X1_test).todense()"
   ]
  },
  {
   "cell_type": "code",
   "execution_count": 29,
   "id": "cdb39ea6",
   "metadata": {},
   "outputs": [
    {
     "name": "stdout",
     "output_type": "stream",
     "text": [
      "Model      : Logistic Regression\n",
      "Accuracy   : 0.7547 \n",
      "Precision  : 0.7531 \n",
      "Recall     : 0.7547 \n",
      "F1 - Score : 0.7535 \n",
      "======================\n",
      "Model      : Decision Tree\n",
      "Accuracy   : 0.6775 \n",
      "Precision  : 0.6765 \n",
      "Recall     : 0.6775 \n",
      "F1 - Score : 0.6744 \n",
      "======================\n",
      "Model      : Random Forest\n",
      "Accuracy   : 0.7302 \n",
      "Precision  : 0.7283 \n",
      "Recall     : 0.7302 \n",
      "F1 - Score : 0.7281 \n",
      "======================\n",
      "Model      : NBMultinomial\n",
      "Accuracy   : 0.7449 \n",
      "Precision  : 0.7446 \n",
      "Recall     : 0.7449 \n",
      "F1 - Score : 0.7440 \n",
      "======================\n",
      "Model      : NBBernoulli\n",
      "Accuracy   : 0.7323 \n",
      "Precision  : 0.7456 \n",
      "Recall     : 0.7323 \n",
      "F1 - Score : 0.7314 \n",
      "======================\n"
     ]
    }
   ],
   "source": [
    "#Testando todos os modelos com Stemmer\n",
    "test_models_plot_roc_auc_curve(list_models,\n",
    "                               \"model_name\",\n",
    "                               \"estimator\",\n",
    "                               X_train_tfidf,\n",
    "                               X_test_tfidf,\n",
    "                               y_train,\n",
    "                               y_test)"
   ]
  },
  {
   "cell_type": "code",
   "execution_count": 30,
   "id": "184c4ae2",
   "metadata": {},
   "outputs": [
    {
     "name": "stdout",
     "output_type": "stream",
     "text": [
      "Model      : Logistic Regression\n",
      "Accuracy   : 0.7512 \n",
      "Precision  : 0.7481 \n",
      "Recall     : 0.7512 \n",
      "F1 - Score : 0.7491 \n",
      "======================\n",
      "Model      : Decision Tree\n",
      "Accuracy   : 0.6818 \n",
      "Precision  : 0.6832 \n",
      "Recall     : 0.6818 \n",
      "F1 - Score : 0.6807 \n",
      "======================\n",
      "Model      : Random Forest\n",
      "Accuracy   : 0.7263 \n",
      "Precision  : 0.7267 \n",
      "Recall     : 0.7263 \n",
      "F1 - Score : 0.7252 \n",
      "======================\n",
      "Model      : NBMultinomial\n",
      "Accuracy   : 0.7393 \n",
      "Precision  : 0.7419 \n",
      "Recall     : 0.7393 \n",
      "F1 - Score : 0.7388 \n",
      "======================\n",
      "Model      : NBBernoulli\n",
      "Accuracy   : 0.7260 \n",
      "Precision  : 0.7436 \n",
      "Recall     : 0.7260 \n",
      "F1 - Score : 0.7250 \n",
      "======================\n"
     ]
    }
   ],
   "source": [
    "#Testando todos os modelos com Lemmantizer\n",
    "test_models_plot_roc_auc_curve(list_models,\n",
    "                               \"model_name\",\n",
    "                               \"estimator\",\n",
    "                               X1_train_tfidf,\n",
    "                               X1_test_tfidf,\n",
    "                               y1_train,\n",
    "                               y1_test)"
   ]
  },
  {
   "cell_type": "markdown",
   "id": "bd141a43",
   "metadata": {},
   "source": [
    "Na execução do TF-IDF entre o Stemmer e o Lemmantizer, comparando ambos com o melhor modelo (Logistic Regression), novamente o processamento com o Stemmer teve uma leve vantagem, demonstrando que é desnecessario seguir com o Lemmantizer."
   ]
  },
  {
   "cell_type": "markdown",
   "id": "8c962bc3",
   "metadata": {},
   "source": [
    "### WORD2VEC"
   ]
  },
  {
   "cell_type": "code",
   "execution_count": 31,
   "id": "dc952590",
   "metadata": {},
   "outputs": [],
   "source": [
    "#Lista de Modelos de Machine Learning\n",
    "random_seed = 42\n",
    "\n",
    "list_models_w = [\n",
    "{'model_name': 'Logistic Regression',\n",
    " 'estimator' : LogisticRegression(random_state = random_seed, solver = 'lbfgs')},\n",
    "{'model_name': 'Decision Tree',\n",
    " 'estimator' : DecisionTreeClassifier(random_state = random_seed)},\n",
    "{'model_name': 'Random Forest',\n",
    " 'estimator' : RandomForestClassifier(random_state = random_seed)}, \n",
    "{'model_name': 'AdaBoost',\n",
    " 'estimator' : AdaBoostClassifier(random_state = random_seed)},\n",
    "{'model_name': 'XGBoost      ',\n",
    " 'estimator' : XGBClassifier(eval_metric='mlogloss', random_state = random_seed)},\n",
    "{'model_name': 'LightGBM     ',\n",
    " 'estimator' : lgb.LGBMClassifier(random_state = random_seed)},\n",
    "]"
   ]
  },
  {
   "cell_type": "code",
   "execution_count": 32,
   "id": "48e0916a",
   "metadata": {},
   "outputs": [],
   "source": [
    "model = Word2Vec(sentences=X_train, vector_size=500, min_count=5, window=3)"
   ]
  },
  {
   "cell_type": "code",
   "execution_count": 33,
   "id": "fdf77581",
   "metadata": {},
   "outputs": [],
   "source": [
    "X_train_w2v_m = [] # Treino com a média\n",
    "X_train_w2v_s = [] # Treino com a soma\n",
    "X_train_w2v_sn = [] # Treino com a soma normalizada\n",
    "\n",
    "\n",
    "for phrase in X_train:\n",
    "    vecs = []\n",
    "    for word in phrase:\n",
    "        if word in model.wv.index_to_key:\n",
    "            vecs.append(model.wv.get_vector(word))\n",
    "            \n",
    "    if vecs:\n",
    "        soma = np.sum(vecs, axis=0)\n",
    "        media = soma/len(vecs)\n",
    "        soma_normalizada = soma / np.linalg.norm(soma)\n",
    "        \n",
    "        X_train_w2v_m.append(media)\n",
    "        X_train_w2v_s.append(soma)\n",
    "        X_train_w2v_sn.append(soma_normalizada)\n",
    "        \n",
    "    else:\n",
    "        X_train_w2v_m.append(np.zeros(model.vector_size))\n",
    "        X_train_w2v_s.append(np.zeros(model.vector_size))\n",
    "        X_train_w2v_sn.append(np.zeros(model.vector_size))\n",
    "    \n",
    "    \n",
    "X_train_w2v_m = np.array(X_train_w2v_m)\n",
    "X_train_w2v_s = np.array(X_train_w2v_s)\n",
    "X_train_w2v_sn = np.array(X_train_w2v_sn)"
   ]
  },
  {
   "cell_type": "code",
   "execution_count": 34,
   "id": "1011946e",
   "metadata": {},
   "outputs": [],
   "source": [
    "X_test_w2v_m = [] # Teste com a média\n",
    "X_test_w2v_s = [] # Teste com a soma\n",
    "X_test_w2v_sn = [] # Teste com a soma normalizada\n",
    "\n",
    "for phrase in X_test:\n",
    "    vecs = []\n",
    "    for word in phrase:\n",
    "        if word in model.wv.index_to_key:\n",
    "            vecs.append(model.wv.get_vector(word))\n",
    "            \n",
    "    if vecs:\n",
    "        soma = np.sum(vecs, axis=0)\n",
    "        media = soma/len(vecs)\n",
    "        soma_normalizada = soma / np.linalg.norm(soma)\n",
    "        \n",
    "        X_test_w2v_m.append(media)\n",
    "        X_test_w2v_s.append(soma)\n",
    "        X_test_w2v_sn.append(soma_normalizada)\n",
    "        \n",
    "    else:\n",
    "        X_test_w2v_m.append(np.zeros(model.vector_size))\n",
    "        X_test_w2v_s.append(np.zeros(model.vector_size))\n",
    "        X_test_w2v_sn.append(np.zeros(model.vector_size))\n",
    "    \n",
    "    \n",
    "X_test_w2v_m = np.array(X_test_w2v_m)\n",
    "X_test_w2v_s = np.array(X_test_w2v_s)\n",
    "X_test_w2v_sn = np.array(X_test_w2v_sn)"
   ]
  },
  {
   "cell_type": "code",
   "execution_count": 35,
   "id": "937b7abd",
   "metadata": {},
   "outputs": [
    {
     "name": "stdout",
     "output_type": "stream",
     "text": [
      "Model      : Logistic Regression\n",
      "Accuracy   : 0.4474 \n",
      "Precision  : 0.4427 \n",
      "Recall     : 0.4474 \n",
      "F1 - Score : 0.4379 \n",
      "======================\n",
      "Model      : Decision Tree\n",
      "Accuracy   : 0.4782 \n",
      "Precision  : 0.4788 \n",
      "Recall     : 0.4782 \n",
      "F1 - Score : 0.4784 \n",
      "======================\n",
      "Model      : Random Forest\n",
      "Accuracy   : 0.5625 \n",
      "Precision  : 0.5539 \n",
      "Recall     : 0.5625 \n",
      "F1 - Score : 0.5568 \n",
      "======================\n",
      "Model      : AdaBoost\n",
      "Accuracy   : 0.5389 \n",
      "Precision  : 0.5288 \n",
      "Recall     : 0.5389 \n",
      "F1 - Score : 0.5302 \n",
      "======================\n",
      "Model      : XGBoost      \n",
      "Accuracy   : 0.5498 \n",
      "Precision  : 0.5404 \n",
      "Recall     : 0.5498 \n",
      "F1 - Score : 0.5429 \n",
      "======================\n",
      "Model      : LightGBM     \n",
      "Accuracy   : 0.5656 \n",
      "Precision  : 0.5564 \n",
      "Recall     : 0.5656 \n",
      "F1 - Score : 0.5588 \n",
      "======================\n"
     ]
    }
   ],
   "source": [
    "#Testando todos os modelos com a média\n",
    "test_models_plot_roc_auc_curve(list_models_w,\n",
    "                               \"model_name\",\n",
    "                               \"estimator\",\n",
    "                               X_train_w2v_m,\n",
    "                               X_test_w2v_m,\n",
    "                               y_train,\n",
    "                               y_test)"
   ]
  },
  {
   "cell_type": "code",
   "execution_count": 36,
   "id": "a5e913f8",
   "metadata": {},
   "outputs": [
    {
     "name": "stdout",
     "output_type": "stream",
     "text": [
      "Model      : Logistic Regression\n",
      "Accuracy   : 0.5442 \n",
      "Precision  : 0.5277 \n",
      "Recall     : 0.5442 \n",
      "F1 - Score : 0.5273 \n",
      "======================\n",
      "Model      : Decision Tree\n",
      "Accuracy   : 0.5053 \n",
      "Precision  : 0.5070 \n",
      "Recall     : 0.5053 \n",
      "F1 - Score : 0.5061 \n",
      "======================\n",
      "Model      : Random Forest\n",
      "Accuracy   : 0.5961 \n",
      "Precision  : 0.5853 \n",
      "Recall     : 0.5961 \n",
      "F1 - Score : 0.5884 \n",
      "======================\n",
      "Model      : AdaBoost\n",
      "Accuracy   : 0.5614 \n",
      "Precision  : 0.5459 \n",
      "Recall     : 0.5614 \n",
      "F1 - Score : 0.5496 \n",
      "======================\n",
      "Model      : XGBoost      \n",
      "Accuracy   : 0.5863 \n",
      "Precision  : 0.5762 \n",
      "Recall     : 0.5863 \n",
      "F1 - Score : 0.5797 \n",
      "======================\n",
      "Model      : LightGBM     \n",
      "Accuracy   : 0.5870 \n",
      "Precision  : 0.5760 \n",
      "Recall     : 0.5870 \n",
      "F1 - Score : 0.5796 \n",
      "======================\n"
     ]
    }
   ],
   "source": [
    "#Testando todos os modelos com a soma\n",
    "test_models_plot_roc_auc_curve(list_models_w,\n",
    "                               \"model_name\",\n",
    "                               \"estimator\",\n",
    "                               X_train_w2v_s,\n",
    "                               X_test_w2v_s,\n",
    "                               y_train,\n",
    "                               y_test)"
   ]
  },
  {
   "cell_type": "code",
   "execution_count": 37,
   "id": "17d8553d",
   "metadata": {},
   "outputs": [
    {
     "name": "stdout",
     "output_type": "stream",
     "text": [
      "Model      : Logistic Regression\n",
      "Accuracy   : 0.5175 \n",
      "Precision  : 0.5160 \n",
      "Recall     : 0.5175 \n",
      "F1 - Score : 0.4993 \n",
      "======================\n",
      "Model      : Decision Tree\n",
      "Accuracy   : 0.4716 \n",
      "Precision  : 0.4726 \n",
      "Recall     : 0.4716 \n",
      "F1 - Score : 0.4720 \n",
      "======================\n",
      "Model      : Random Forest\n",
      "Accuracy   : 0.5600 \n",
      "Precision  : 0.5515 \n",
      "Recall     : 0.5600 \n",
      "F1 - Score : 0.5542 \n",
      "======================\n",
      "Model      : AdaBoost\n",
      "Accuracy   : 0.5270 \n",
      "Precision  : 0.5129 \n",
      "Recall     : 0.5270 \n",
      "F1 - Score : 0.5164 \n",
      "======================\n",
      "Model      : XGBoost      \n",
      "Accuracy   : 0.5670 \n",
      "Precision  : 0.5572 \n",
      "Recall     : 0.5670 \n",
      "F1 - Score : 0.5595 \n",
      "======================\n",
      "Model      : LightGBM     \n",
      "Accuracy   : 0.5747 \n",
      "Precision  : 0.5664 \n",
      "Recall     : 0.5747 \n",
      "F1 - Score : 0.5685 \n",
      "======================\n"
     ]
    }
   ],
   "source": [
    "#Testando todos os modelos com a soma normalizada\n",
    "test_models_plot_roc_auc_curve(list_models_w,\n",
    "                               \"model_name\",\n",
    "                               \"estimator\",\n",
    "                               X_train_w2v_sn,\n",
    "                               X_test_w2v_sn,\n",
    "                               y_train,\n",
    "                               y_test)"
   ]
  },
  {
   "cell_type": "markdown",
   "id": "cb5e919f",
   "metadata": {},
   "source": [
    "### Doc2Vec"
   ]
  },
  {
   "cell_type": "code",
   "execution_count": 38,
   "id": "20603ffd",
   "metadata": {},
   "outputs": [],
   "source": [
    "def read_corpus(list_sentences, tokens_only=False):\n",
    "    if tokens_only:\n",
    "        # For test data, just return sentences\n",
    "        return list_sentences\n",
    "    else:\n",
    "        # For training data, add tags\n",
    "        lista = []\n",
    "        for i, line in enumerate(list_sentences):\n",
    "            lista.append(doc2vec.TaggedDocument(line, [i]))\n",
    "\n",
    "        return lista"
   ]
  },
  {
   "cell_type": "code",
   "execution_count": 39,
   "id": "b08e001b",
   "metadata": {},
   "outputs": [],
   "source": [
    "train_corpus = read_corpus(X_train)\n",
    "test_corpus = read_corpus(X_test, tokens_only=True)"
   ]
  },
  {
   "cell_type": "code",
   "execution_count": 40,
   "id": "b899f94b",
   "metadata": {},
   "outputs": [],
   "source": [
    "model = doc2vec.Doc2Vec(vector_size=50, min_count=2, epochs=20)"
   ]
  },
  {
   "cell_type": "code",
   "execution_count": 41,
   "id": "c8888872",
   "metadata": {},
   "outputs": [],
   "source": [
    "model.build_vocab(train_corpus)"
   ]
  },
  {
   "cell_type": "code",
   "execution_count": 42,
   "id": "44007ffc",
   "metadata": {},
   "outputs": [],
   "source": [
    "model.train(train_corpus, total_examples=model.corpus_count, epochs=model.epochs)"
   ]
  },
  {
   "cell_type": "code",
   "execution_count": 43,
   "id": "46785a2d",
   "metadata": {},
   "outputs": [],
   "source": [
    "X_train_d2v = []\n",
    "\n",
    "for phrase in X_train:\n",
    "    phrase = phrase.split()\n",
    "    vecs = []\n",
    "    vecs.append(model.infer_vector(phrase))\n",
    "\n",
    "    X_train_d2v.append(vecs)\n",
    "    \n",
    "X_train_d2v = np.array(X_train_d2v)"
   ]
  },
  {
   "cell_type": "code",
   "execution_count": 44,
   "id": "f30f5734",
   "metadata": {},
   "outputs": [],
   "source": [
    "X_test_d2v = []\n",
    "\n",
    "for phrase in X_test:\n",
    "    phrase = phrase.split()\n",
    "    vecs = []\n",
    "    vecs.append(model.infer_vector(phrase))\n",
    "\n",
    "    X_test_d2v.append(vecs)\n",
    "    \n",
    "X_test_d2v = np.array(X_test_d2v)"
   ]
  },
  {
   "cell_type": "code",
   "execution_count": 45,
   "id": "d260c495",
   "metadata": {},
   "outputs": [],
   "source": [
    "X_train_d2v = X_train_d2v[:,0,:]\n",
    "X_test_d2v = X_test_d2v[:,0,:]"
   ]
  },
  {
   "cell_type": "code",
   "execution_count": 46,
   "id": "ac922ee8",
   "metadata": {},
   "outputs": [
    {
     "name": "stdout",
     "output_type": "stream",
     "text": [
      "Model      : Logistic Regression\n",
      "Accuracy   : 0.3825 \n",
      "Precision  : 0.3982 \n",
      "Recall     : 0.3825 \n",
      "F1 - Score : 0.3668 \n",
      "======================\n",
      "Model      : Decision Tree\n",
      "Accuracy   : 0.4084 \n",
      "Precision  : 0.4082 \n",
      "Recall     : 0.4084 \n",
      "F1 - Score : 0.4083 \n",
      "======================\n",
      "Model      : Random Forest\n",
      "Accuracy   : 0.4218 \n",
      "Precision  : 0.4337 \n",
      "Recall     : 0.4218 \n",
      "F1 - Score : 0.4211 \n",
      "======================\n",
      "Model      : AdaBoost\n",
      "Accuracy   : 0.3940 \n",
      "Precision  : 0.4077 \n",
      "Recall     : 0.3940 \n",
      "F1 - Score : 0.3898 \n",
      "======================\n",
      "Model      : XGBoost      \n",
      "Accuracy   : 0.4214 \n",
      "Precision  : 0.4238 \n",
      "Recall     : 0.4214 \n",
      "F1 - Score : 0.4217 \n",
      "======================\n",
      "Model      : LightGBM     \n",
      "Accuracy   : 0.4330 \n",
      "Precision  : 0.4375 \n",
      "Recall     : 0.4330 \n",
      "F1 - Score : 0.4325 \n",
      "======================\n"
     ]
    }
   ],
   "source": [
    "#Testando todos os modelos\n",
    "test_models_plot_roc_auc_curve(list_models_w,\n",
    "                               \"model_name\",\n",
    "                               \"estimator\",\n",
    "                               X_train_d2v,\n",
    "                               X_test_d2v,\n",
    "                               y_train,\n",
    "                               y_test)"
   ]
  },
  {
   "cell_type": "markdown",
   "id": "b05de8b2",
   "metadata": {},
   "source": [
    "## Conclusão\n",
    "Os melhores modelos com a melhor técnica inicial, são:\n",
    "\n",
    "#### Técnica - TF-IDF\n",
    "\n",
    "**Logistic Regression** - Accuracy - 0,7547 / F1 - Score - 0,7535  \n",
    "**NBMultinomial** - Accuracy - 0,7449 / F1 - Score - 0,7440  \n"
   ]
  },
  {
   "cell_type": "markdown",
   "id": "dfa57af8",
   "metadata": {},
   "source": [
    "## Etapa 4 - Treinamento do Modelo"
   ]
  },
  {
   "cell_type": "code",
   "execution_count": 47,
   "id": "1d8fbdaa",
   "metadata": {},
   "outputs": [],
   "source": [
    "#Lista de Modelos de Machine Learning\n",
    "random_seed = 42\n",
    "\n",
    "best_models = [\n",
    "{'model_name': 'Logistic Regression',\n",
    " 'estimator' : LogisticRegression(random_state = random_seed, solver = 'lbfgs')},\n",
    "{'model_name': 'NBMultinomial      ',\n",
    " 'estimator' : MultinomialNB(alpha=1.0,fit_prior=True)},\n",
    "]"
   ]
  },
  {
   "cell_type": "code",
   "execution_count": 48,
   "id": "adc89162",
   "metadata": {},
   "outputs": [
    {
     "name": "stdout",
     "output_type": "stream",
     "text": [
      "\u001b[1mModelo               Accuracy  Desvio Padrão\u001b[0m\n",
      "Logistic Regression: 0.754586 (0.012497)\n",
      "NBMultinomial      : 0.740752 (0.004237)\n"
     ]
    },
    {
     "data": {
      "image/png": "[encoded data removed]",
      "text/plain": [
       "<Figure size 720x504 with 1 Axes>"
      ]
     },
     "metadata": {
      "needs_background": "light"
     },
     "output_type": "display_data"
    }
   ],
   "source": [
    "# Validação Cruzada com os 2 melhores resultados de Acuracia\n",
    "\n",
    "num_folds = 5\n",
    "seed = 42\n",
    "\n",
    "resultados = []\n",
    "nomes = []\n",
    "count = 0\n",
    "\n",
    "for mdl in best_models:\n",
    "    model = mdl['estimator']\n",
    "    kfold = StratifiedKFold(num_folds, True, random_state = seed)\n",
    "    cv_results = cross_val_score(model, X_train_tfidf, y_train, cv = kfold, scoring = 'accuracy')\n",
    "    resultados.append(cv_results)\n",
    "    nomes.append(best_models[count]['model_name'])\n",
    "    if count == 0:\n",
    "        print('\\033[1mModelo               Accuracy  Desvio Padrão\\033[0m')\n",
    "    msg = \"%s: %f (%f)\" % (best_models[count]['model_name'], cv_results.mean(), cv_results.std())\n",
    "    print(msg)\n",
    "    count += 1\n",
    "    \n",
    "    \n",
    "# Boxplot para comparar os algoritmos\n",
    "fig = plt.figure(figsize=(10, 7))\n",
    "fig.suptitle('Comparação dos Algoritmos de Classificação')\n",
    "ax = fig.add_subplot(111)\n",
    "plt.boxplot(resultados)\n",
    "ax.set_xticklabels(nomes, rotation = 45)\n",
    "plt.show()"
   ]
  },
  {
   "cell_type": "raw",
   "id": "ea1d947d",
   "metadata": {},
   "source": [
    "#### RandomizedSearchCV em LogisticRegression\n",
    "\n",
    "params = {   \n",
    "'solver': ['newton-cg', 'lbfgs', 'liblinear'],   \n",
    "'penalty': ['l1','l2'],    \n",
    "'C': [10, 1.0, 0.1],    \n",
    "}   \n",
    "\n",
    "model =  LogisticRegression(random_state = random_seed)\n",
    "                        \n",
    "random_search = RandomizedSearchCV(estimator = model, \n",
    "                                   param_distributions = params, \n",
    "                                   n_iter = 100, \n",
    "                                   cv = 5, \n",
    "                                   verbose=2,\n",
    "                                   scoring = 'accuracy',\n",
    "                                   n_jobs = -1)\n",
    "\n",
    "random_search.fit(X_train_tfidf, y_train)\n",
    "\n",
    "\n",
    "print (\"Melhores parâmetros:\", random_search.best_params_) \n",
    "\n",
    "#Melhores parâmetros: {'solver': 'newton-cg', 'penalty': 'l2', 'C': 1.0}"
   ]
  },
  {
   "cell_type": "code",
   "execution_count": 49,
   "id": "d6e4bbee",
   "metadata": {},
   "outputs": [
    {
     "name": "stdout",
     "output_type": "stream",
     "text": [
      "Accuracy: 75.459\n"
     ]
    }
   ],
   "source": [
    "# LogisticRegression com os melhores parâmetros\n",
    "\n",
    "num_folds = 5\n",
    "seed = 42\n",
    "\n",
    "# Separando os dados em folds\n",
    "kfold = StratifiedKFold(num_folds, True, random_state = seed)\n",
    "\n",
    "# Criando o modelo\n",
    "modelo_lr = LogisticRegression(solver = 'newton-cg', \n",
    "                                penalty = 'l2', \n",
    "                                C = 1.0, \n",
    "                                random_state = 42)\n",
    "# Cross Validation\n",
    "resultado = cross_val_score(modelo_lr, X_train_tfidf, y_train, cv = kfold, scoring = 'accuracy')\n",
    "\n",
    "dt_res = resultado.mean() * 100\n",
    "\n",
    "# Print do resultado\n",
    "print(\"Accuracy: %.3f\" % (resultado.mean() * 100))"
   ]
  },
  {
   "cell_type": "raw",
   "id": "b231ce66",
   "metadata": {},
   "source": [
    "#### RandomizedSearchCV em MultinomialNB\n",
    "\n",
    "params = {\n",
    "    'alpha': [0.5, 1.5, 6],\n",
    "    'fit_prior': [True, False],  \n",
    "}\n",
    "\n",
    "model =  MultinomialNB()\n",
    "                        \n",
    "random_search = RandomizedSearchCV(estimator = model, \n",
    "                                   param_distributions = params, \n",
    "                                   n_iter = 100, \n",
    "                                   cv = 5, \n",
    "                                   verbose=2,\n",
    "                                   scoring = 'accuracy',\n",
    "                                   n_jobs = -1)\n",
    "\n",
    "random_search.fit(X_train_tfidf, y_train)\n",
    "\n",
    "\n",
    "print (\"Melhores parâmetros:\", random_search.best_params_) \n",
    "\n",
    "#Melhores parâmetros: {'fit_prior': True, 'alpha': 6}"
   ]
  },
  {
   "cell_type": "code",
   "execution_count": 50,
   "id": "e6f84abe",
   "metadata": {},
   "outputs": [
    {
     "name": "stdout",
     "output_type": "stream",
     "text": [
      "Accuracy: 73.850\n"
     ]
    }
   ],
   "source": [
    "# MultinomialNB com os melhores parâmetros\n",
    "\n",
    "num_folds = 5\n",
    "seed = 42\n",
    "\n",
    "# Separando os dados em folds\n",
    "kfold = StratifiedKFold(num_folds, True, random_state = seed)\n",
    "\n",
    "# Criando o modelo\n",
    "modelo_mnb = MultinomialNB(fit_prior = True,\n",
    "                           alpha = 6)\n",
    "\n",
    "# Cross Validation\n",
    "resultado = cross_val_score(modelo_mnb, X_train_tfidf, y_train, cv = kfold, scoring = 'accuracy')\n",
    "\n",
    "dt_res = resultado.mean() * 100\n",
    "\n",
    "# Print do resultado\n",
    "print(\"Accuracy: %.3f\" % (resultado.mean() * 100))"
   ]
  },
  {
   "cell_type": "markdown",
   "id": "a158fb1a",
   "metadata": {},
   "source": [
    "### Conclusão\n",
    "\n",
    "O RandomizedSearchCV não agregou valor ao modelo, permanecendo como melhor modelo a Logistic Regression: 0,7547 em TF-IDF e com um custo computacional muito menor. "
   ]
  },
  {
   "cell_type": "markdown",
   "id": "aa1f4b72",
   "metadata": {},
   "source": [
    "## Etapa 5 - Finalização na base de Submissão"
   ]
  },
  {
   "cell_type": "code",
   "execution_count": 51,
   "id": "01f14a20",
   "metadata": {},
   "outputs": [
    {
     "name": "stdout",
     "output_type": "stream",
     "text": [
      "Model      : LogisticRegression\n",
      "Accuracy   : 0.7547 \n",
      "Precision  : 0.7531 \n",
      "Recall     : 0.7547 \n",
      "F1 - Score : 0.7535 \n",
      "======================\n"
     ]
    }
   ],
   "source": [
    "# Modelo escolhido LogisticRegression com TFIDF\n",
    "model_LR = LogisticRegression(random_state = random_seed, solver = 'lbfgs')\n",
    "model_LR.fit(X_train_tfidf, y_train)\n",
    "y_predict = model_LR.predict(X_test_tfidf)\n",
    "print(\"Model      : %s\" % 'LogisticRegression')\n",
    "print(\"Accuracy   : %0.4f \" %  accuracy_score(y_test, y_predict))\n",
    "print(\"Precision  : %0.4f \" % precision_score(y_test, y_predict, average='weighted'))\n",
    "print(\"Recall     : %0.4f \" % recall_score(y_test, y_predict, average='weighted'))\n",
    "print(\"F1 - Score : %0.4f \" % f1_score(y_test, y_predict, average='weighted'))\n",
    "print(\"======================\")"
   ]
  },
  {
   "cell_type": "code",
   "execution_count": 70,
   "id": "ac288d8b",
   "metadata": {},
   "outputs": [],
   "source": [
    "#Carregando o dataset Submissão\n",
    "data_sub = pd.read_csv('./Dados/subm/Subm3Classes.csv')"
   ]
  },
  {
   "cell_type": "code",
   "execution_count": 71,
   "id": "a86967fe",
   "metadata": {},
   "outputs": [
    {
     "data": {
      "text/html": [
       "<div>\n",
       "<style scoped>\n",
       "    .dataframe tbody tr th:only-of-type {\n",
       "        vertical-align: middle;\n",
       "    }\n",
       "\n",
       "    .dataframe tbody tr th {\n",
       "        vertical-align: top;\n",
       "    }\n",
       "\n",
       "    .dataframe thead th {\n",
       "        text-align: right;\n",
       "    }\n",
       "</style>\n",
       "<table border=\"1\" class=\"dataframe\">\n",
       "  <thead>\n",
       "    <tr style=\"text-align: right;\">\n",
       "      <th></th>\n",
       "      <th>id</th>\n",
       "      <th>tweet_text</th>\n",
       "      <th>tweet_date</th>\n",
       "      <th>query_used</th>\n",
       "    </tr>\n",
       "  </thead>\n",
       "  <tbody>\n",
       "    <tr>\n",
       "      <th>0</th>\n",
       "      <td>1046764676707753987</td>\n",
       "      <td>Apartamento Vila Mariana Praça Monteiro dos Sa...</td>\n",
       "      <td>Mon Oct 01 14:12:01 +0000 2018</td>\n",
       "      <td>:)</td>\n",
       "    </tr>\n",
       "    <tr>\n",
       "      <th>1</th>\n",
       "      <td>1047329264943751169</td>\n",
       "      <td>@FalleNCS @BrasilGameShow quero 1x1 de scout. ...</td>\n",
       "      <td>Wed Oct 03 03:35:29 +0000 2018</td>\n",
       "      <td>:)</td>\n",
       "    </tr>\n",
       "    <tr>\n",
       "      <th>2</th>\n",
       "      <td>1045443874947313665</td>\n",
       "      <td>mais uma analógica no correio à minha espera :...</td>\n",
       "      <td>Thu Sep 27 22:43:37 +0000 2018</td>\n",
       "      <td>:)</td>\n",
       "    </tr>\n",
       "    <tr>\n",
       "      <th>3</th>\n",
       "      <td>1040484298711814144</td>\n",
       "      <td>Em festa de posse como presidente do STF, Toff...</td>\n",
       "      <td>Fri Sep 14 06:16:02 +0000 2018</td>\n",
       "      <td>folha</td>\n",
       "    </tr>\n",
       "    <tr>\n",
       "      <th>4</th>\n",
       "      <td>1045411876887306240</td>\n",
       "      <td>@thethiagor @jubsilva @GSCISA @GrupoMulheRIs A...</td>\n",
       "      <td>Thu Sep 27 20:36:28 +0000 2018</td>\n",
       "      <td>:)</td>\n",
       "    </tr>\n",
       "    <tr>\n",
       "      <th>...</th>\n",
       "      <td>...</td>\n",
       "      <td>...</td>\n",
       "      <td>...</td>\n",
       "      <td>...</td>\n",
       "    </tr>\n",
       "    <tr>\n",
       "      <th>4995</th>\n",
       "      <td>1049243861732794369</td>\n",
       "      <td>Não é nada demais , apenas a verdade :) — Oh.....</td>\n",
       "      <td>Mon Oct 08 10:23:25 +0000 2018</td>\n",
       "      <td>:)</td>\n",
       "    </tr>\n",
       "    <tr>\n",
       "      <th>4996</th>\n",
       "      <td>1039334757690163201</td>\n",
       "      <td>Veja o que é #FATO ou #FAKE na entrevista de A...</td>\n",
       "      <td>Tue Sep 11 02:08:10 +0000 2018</td>\n",
       "      <td>#fato</td>\n",
       "    </tr>\n",
       "    <tr>\n",
       "      <th>4997</th>\n",
       "      <td>1049286902577356801</td>\n",
       "      <td>@nattvieiira de quem???? queria ver, eu sai po...</td>\n",
       "      <td>Mon Oct 08 13:14:27 +0000 2018</td>\n",
       "      <td>:(</td>\n",
       "    </tr>\n",
       "    <tr>\n",
       "      <th>4998</th>\n",
       "      <td>1045349300744671232</td>\n",
       "      <td>ASSASSIN'S CREED ORIGINS: ENFRENTANDO OS IRMÃO...</td>\n",
       "      <td>Thu Sep 27 16:27:49 +0000 2018</td>\n",
       "      <td>:)</td>\n",
       "    </tr>\n",
       "    <tr>\n",
       "      <th>4999</th>\n",
       "      <td>1046943420210659328</td>\n",
       "      <td>a gnt conversava muito mas paramos :( te acho ...</td>\n",
       "      <td>Tue Oct 02 02:02:17 +0000 2018</td>\n",
       "      <td>:(</td>\n",
       "    </tr>\n",
       "  </tbody>\n",
       "</table>\n",
       "<p>5000 rows × 4 columns</p>\n",
       "</div>"
      ],
      "text/plain": [
       "                       id                                         tweet_text  \\\n",
       "0     1046764676707753987  Apartamento Vila Mariana Praça Monteiro dos Sa...   \n",
       "1     1047329264943751169  @FalleNCS @BrasilGameShow quero 1x1 de scout. ...   \n",
       "2     1045443874947313665  mais uma analógica no correio à minha espera :...   \n",
       "3     1040484298711814144  Em festa de posse como presidente do STF, Toff...   \n",
       "4     1045411876887306240  @thethiagor @jubsilva @GSCISA @GrupoMulheRIs A...   \n",
       "...                   ...                                                ...   \n",
       "4995  1049243861732794369  Não é nada demais , apenas a verdade :) — Oh.....   \n",
       "4996  1039334757690163201  Veja o que é #FATO ou #FAKE na entrevista de A...   \n",
       "4997  1049286902577356801  @nattvieiira de quem???? queria ver, eu sai po...   \n",
       "4998  1045349300744671232  ASSASSIN'S CREED ORIGINS: ENFRENTANDO OS IRMÃO...   \n",
       "4999  1046943420210659328  a gnt conversava muito mas paramos :( te acho ...   \n",
       "\n",
       "                          tweet_date query_used  \n",
       "0     Mon Oct 01 14:12:01 +0000 2018         :)  \n",
       "1     Wed Oct 03 03:35:29 +0000 2018         :)  \n",
       "2     Thu Sep 27 22:43:37 +0000 2018         :)  \n",
       "3     Fri Sep 14 06:16:02 +0000 2018      folha  \n",
       "4     Thu Sep 27 20:36:28 +0000 2018         :)  \n",
       "...                              ...        ...  \n",
       "4995  Mon Oct 08 10:23:25 +0000 2018         :)  \n",
       "4996  Tue Sep 11 02:08:10 +0000 2018      #fato  \n",
       "4997  Mon Oct 08 13:14:27 +0000 2018         :(  \n",
       "4998  Thu Sep 27 16:27:49 +0000 2018         :)  \n",
       "4999  Tue Oct 02 02:02:17 +0000 2018         :(  \n",
       "\n",
       "[5000 rows x 4 columns]"
      ]
     },
     "execution_count": 71,
     "metadata": {},
     "output_type": "execute_result"
    }
   ],
   "source": [
    "data_sub"
   ]
  },
  {
   "cell_type": "code",
   "execution_count": 72,
   "id": "0fb18cb9",
   "metadata": {},
   "outputs": [
    {
     "name": "stdout",
     "output_type": "stream",
     "text": [
      "<class 'pandas.core.frame.DataFrame'>\n",
      "RangeIndex: 5000 entries, 0 to 4999\n",
      "Data columns (total 4 columns):\n",
      " #   Column      Non-Null Count  Dtype \n",
      "---  ------      --------------  ----- \n",
      " 0   id          5000 non-null   int64 \n",
      " 1   tweet_text  5000 non-null   object\n",
      " 2   tweet_date  5000 non-null   object\n",
      " 3   query_used  5000 non-null   object\n",
      "dtypes: int64(1), object(3)\n",
      "memory usage: 156.4+ KB\n"
     ]
    }
   ],
   "source": [
    "# Informações do dataset\n",
    "data_sub.info()"
   ]
  },
  {
   "cell_type": "code",
   "execution_count": 73,
   "id": "daa3caaa",
   "metadata": {},
   "outputs": [
    {
     "data": {
      "text/plain": [
       "False    5000\n",
       "dtype: int64"
      ]
     },
     "execution_count": 73,
     "metadata": {},
     "output_type": "execute_result"
    }
   ],
   "source": [
    "#Verificando itens duplicados\n",
    "data_sub.duplicated().value_counts()"
   ]
  },
  {
   "cell_type": "code",
   "execution_count": 74,
   "id": "a570c42c",
   "metadata": {},
   "outputs": [
    {
     "data": {
      "text/plain": [
       "id     tweet_text  tweet_date  query_used\n",
       "False  False       False       False         5000\n",
       "dtype: int64"
      ]
     },
     "execution_count": 74,
     "metadata": {},
     "output_type": "execute_result"
    }
   ],
   "source": [
    "#Verificando itens nulos\n",
    "data_sub.isnull().value_counts()"
   ]
  },
  {
   "cell_type": "code",
   "execution_count": 75,
   "id": "bff61f10",
   "metadata": {},
   "outputs": [],
   "source": [
    "#Dropando as colunas que não agregam ao modelo\n",
    "data_sub = data_sub.drop(['tweet_date', 'query_used'], axis=1)"
   ]
  },
  {
   "cell_type": "code",
   "execution_count": 76,
   "id": "322f6dde",
   "metadata": {},
   "outputs": [
    {
     "data": {
      "text/html": [
       "<div>\n",
       "<style scoped>\n",
       "    .dataframe tbody tr th:only-of-type {\n",
       "        vertical-align: middle;\n",
       "    }\n",
       "\n",
       "    .dataframe tbody tr th {\n",
       "        vertical-align: top;\n",
       "    }\n",
       "\n",
       "    .dataframe thead th {\n",
       "        text-align: right;\n",
       "    }\n",
       "</style>\n",
       "<table border=\"1\" class=\"dataframe\">\n",
       "  <thead>\n",
       "    <tr style=\"text-align: right;\">\n",
       "      <th></th>\n",
       "      <th>id</th>\n",
       "      <th>tweet_text</th>\n",
       "    </tr>\n",
       "  </thead>\n",
       "  <tbody>\n",
       "    <tr>\n",
       "      <th>0</th>\n",
       "      <td>1046764676707753987</td>\n",
       "      <td>Apartamento Vila Mariana Praça Monteiro dos Sa...</td>\n",
       "    </tr>\n",
       "    <tr>\n",
       "      <th>1</th>\n",
       "      <td>1047329264943751169</td>\n",
       "      <td>@FalleNCS @BrasilGameShow quero 1x1 de scout. ...</td>\n",
       "    </tr>\n",
       "    <tr>\n",
       "      <th>2</th>\n",
       "      <td>1045443874947313665</td>\n",
       "      <td>mais uma analógica no correio à minha espera :...</td>\n",
       "    </tr>\n",
       "    <tr>\n",
       "      <th>3</th>\n",
       "      <td>1040484298711814144</td>\n",
       "      <td>Em festa de posse como presidente do STF, Toff...</td>\n",
       "    </tr>\n",
       "    <tr>\n",
       "      <th>4</th>\n",
       "      <td>1045411876887306240</td>\n",
       "      <td>@thethiagor @jubsilva @GSCISA @GrupoMulheRIs A...</td>\n",
       "    </tr>\n",
       "  </tbody>\n",
       "</table>\n",
       "</div>"
      ],
      "text/plain": [
       "                    id                                         tweet_text\n",
       "0  1046764676707753987  Apartamento Vila Mariana Praça Monteiro dos Sa...\n",
       "1  1047329264943751169  @FalleNCS @BrasilGameShow quero 1x1 de scout. ...\n",
       "2  1045443874947313665  mais uma analógica no correio à minha espera :...\n",
       "3  1040484298711814144  Em festa de posse como presidente do STF, Toff...\n",
       "4  1045411876887306240  @thethiagor @jubsilva @GSCISA @GrupoMulheRIs A..."
      ]
     },
     "execution_count": 76,
     "metadata": {},
     "output_type": "execute_result"
    }
   ],
   "source": [
    "data_sub.head(5)"
   ]
  },
  {
   "cell_type": "code",
   "execution_count": 77,
   "id": "92ab1dc2",
   "metadata": {},
   "outputs": [],
   "source": [
    "# Tratamentos no dataset\n",
    "data_sub[\"filtered_words\"] = data_sub['tweet_text'].apply(lambda x: preprocessing(x))\n",
    "data_sub['join_words'] = data_sub['filtered_words'].apply(lambda x: ' '.join(x))\n",
    "data_sub['stemmer'] = data_sub['filtered_words'].apply(lambda x: stemming(x))"
   ]
  },
  {
   "cell_type": "code",
   "execution_count": 78,
   "id": "eb801f37",
   "metadata": {},
   "outputs": [
    {
     "data": {
      "text/html": [
       "<div>\n",
       "<style scoped>\n",
       "    .dataframe tbody tr th:only-of-type {\n",
       "        vertical-align: middle;\n",
       "    }\n",
       "\n",
       "    .dataframe tbody tr th {\n",
       "        vertical-align: top;\n",
       "    }\n",
       "\n",
       "    .dataframe thead th {\n",
       "        text-align: right;\n",
       "    }\n",
       "</style>\n",
       "<table border=\"1\" class=\"dataframe\">\n",
       "  <thead>\n",
       "    <tr style=\"text-align: right;\">\n",
       "      <th></th>\n",
       "      <th>id</th>\n",
       "      <th>tweet_text</th>\n",
       "      <th>filtered_words</th>\n",
       "      <th>join_words</th>\n",
       "      <th>stemmer</th>\n",
       "    </tr>\n",
       "  </thead>\n",
       "  <tbody>\n",
       "    <tr>\n",
       "      <th>0</th>\n",
       "      <td>1046764676707753987</td>\n",
       "      <td>Apartamento Vila Mariana Praça Monteiro dos Sa...</td>\n",
       "      <td>[apartamento, vila, mariana, praca, monteiro, ...</td>\n",
       "      <td>apartamento vila mariana praca monteiro santos...</td>\n",
       "      <td>apart vil marian prac monteir sant imud especi...</td>\n",
       "    </tr>\n",
       "    <tr>\n",
       "      <th>1</th>\n",
       "      <td>1047329264943751169</td>\n",
       "      <td>@FalleNCS @BrasilGameShow quero 1x1 de scout. ...</td>\n",
       "      <td>[quero, x, scout, dizem, dou, muita, bala, cag...</td>\n",
       "      <td>quero x scout dizem dou muita bala cagada</td>\n",
       "      <td>quer x scout diz dou muit bal cag</td>\n",
       "    </tr>\n",
       "    <tr>\n",
       "      <th>2</th>\n",
       "      <td>1045443874947313665</td>\n",
       "      <td>mais uma analógica no correio à minha espera :...</td>\n",
       "      <td>[analogica, correio, espera, d, so, falta, rec...</td>\n",
       "      <td>analogica correio espera d so falta receber du...</td>\n",
       "      <td>analog correi esper d so falt receb duas lent ...</td>\n",
       "    </tr>\n",
       "    <tr>\n",
       "      <th>3</th>\n",
       "      <td>1040484298711814144</td>\n",
       "      <td>Em festa de posse como presidente do STF, Toff...</td>\n",
       "      <td>[festa, posse, presidente, stf, toffoli, canta...</td>\n",
       "      <td>festa posse presidente stf toffoli canta legia...</td>\n",
       "      <td>fest poss president stf toffol cant legia urban</td>\n",
       "    </tr>\n",
       "    <tr>\n",
       "      <th>4</th>\n",
       "      <td>1045411876887306240</td>\n",
       "      <td>@thethiagor @jubsilva @GSCISA @GrupoMulheRIs A...</td>\n",
       "      <td>[flavia, tuiter, tambem]</td>\n",
       "      <td>flavia tuiter tambem</td>\n",
       "      <td>flav tuit tamb</td>\n",
       "    </tr>\n",
       "    <tr>\n",
       "      <th>...</th>\n",
       "      <td>...</td>\n",
       "      <td>...</td>\n",
       "      <td>...</td>\n",
       "      <td>...</td>\n",
       "      <td>...</td>\n",
       "    </tr>\n",
       "    <tr>\n",
       "      <th>4995</th>\n",
       "      <td>1049243861732794369</td>\n",
       "      <td>Não é nada demais , apenas a verdade :) — Oh.....</td>\n",
       "      <td>[nao, nada, demais, apenas, verdade, oh, pront...</td>\n",
       "      <td>nao nada demais apenas verdade oh pronto obrig...</td>\n",
       "      <td>nao nad dem apen verdad oh pront obrigadaaaa</td>\n",
       "    </tr>\n",
       "    <tr>\n",
       "      <th>4996</th>\n",
       "      <td>1039334757690163201</td>\n",
       "      <td>Veja o que é #FATO ou #FAKE na entrevista de A...</td>\n",
       "      <td>[veja, fato, fake, entrevista, anthony, garoti...</td>\n",
       "      <td>veja fato fake entrevista anthony garotinho rjtv</td>\n",
       "      <td>vej fat fak entrev anthony garotinh rjtv</td>\n",
       "    </tr>\n",
       "    <tr>\n",
       "      <th>4997</th>\n",
       "      <td>1049286902577356801</td>\n",
       "      <td>@nattvieiira de quem???? queria ver, eu sai po...</td>\n",
       "      <td>[queria, ver, sai, causa, lucas]</td>\n",
       "      <td>queria ver sai causa lucas</td>\n",
       "      <td>quer ver sai caus luc</td>\n",
       "    </tr>\n",
       "    <tr>\n",
       "      <th>4998</th>\n",
       "      <td>1045349300744671232</td>\n",
       "      <td>ASSASSIN'S CREED ORIGINS: ENFRENTANDO OS IRMÃO...</td>\n",
       "      <td>[assassin, s, creed, origins, enfrentando, irm...</td>\n",
       "      <td>assassin s creed origins enfrentando irmaos ze...</td>\n",
       "      <td>assassin s creed origins enfrent irma ze ruel via</td>\n",
       "    </tr>\n",
       "    <tr>\n",
       "      <th>4999</th>\n",
       "      <td>1046943420210659328</td>\n",
       "      <td>a gnt conversava muito mas paramos :( te acho ...</td>\n",
       "      <td>[gnt, conversava, paramos, acho, mt, engracado...</td>\n",
       "      <td>gnt conversava paramos acho mt engracado cara ...</td>\n",
       "      <td>gnt convers par acho mt engrac car kkkkk gnt t...</td>\n",
       "    </tr>\n",
       "  </tbody>\n",
       "</table>\n",
       "<p>5000 rows × 5 columns</p>\n",
       "</div>"
      ],
      "text/plain": [
       "                       id                                         tweet_text  \\\n",
       "0     1046764676707753987  Apartamento Vila Mariana Praça Monteiro dos Sa...   \n",
       "1     1047329264943751169  @FalleNCS @BrasilGameShow quero 1x1 de scout. ...   \n",
       "2     1045443874947313665  mais uma analógica no correio à minha espera :...   \n",
       "3     1040484298711814144  Em festa de posse como presidente do STF, Toff...   \n",
       "4     1045411876887306240  @thethiagor @jubsilva @GSCISA @GrupoMulheRIs A...   \n",
       "...                   ...                                                ...   \n",
       "4995  1049243861732794369  Não é nada demais , apenas a verdade :) — Oh.....   \n",
       "4996  1039334757690163201  Veja o que é #FATO ou #FAKE na entrevista de A...   \n",
       "4997  1049286902577356801  @nattvieiira de quem???? queria ver, eu sai po...   \n",
       "4998  1045349300744671232  ASSASSIN'S CREED ORIGINS: ENFRENTANDO OS IRMÃO...   \n",
       "4999  1046943420210659328  a gnt conversava muito mas paramos :( te acho ...   \n",
       "\n",
       "                                         filtered_words  \\\n",
       "0     [apartamento, vila, mariana, praca, monteiro, ...   \n",
       "1     [quero, x, scout, dizem, dou, muita, bala, cag...   \n",
       "2     [analogica, correio, espera, d, so, falta, rec...   \n",
       "3     [festa, posse, presidente, stf, toffoli, canta...   \n",
       "4                              [flavia, tuiter, tambem]   \n",
       "...                                                 ...   \n",
       "4995  [nao, nada, demais, apenas, verdade, oh, pront...   \n",
       "4996  [veja, fato, fake, entrevista, anthony, garoti...   \n",
       "4997                   [queria, ver, sai, causa, lucas]   \n",
       "4998  [assassin, s, creed, origins, enfrentando, irm...   \n",
       "4999  [gnt, conversava, paramos, acho, mt, engracado...   \n",
       "\n",
       "                                             join_words  \\\n",
       "0     apartamento vila mariana praca monteiro santos...   \n",
       "1             quero x scout dizem dou muita bala cagada   \n",
       "2     analogica correio espera d so falta receber du...   \n",
       "3     festa posse presidente stf toffoli canta legia...   \n",
       "4                                  flavia tuiter tambem   \n",
       "...                                                 ...   \n",
       "4995  nao nada demais apenas verdade oh pronto obrig...   \n",
       "4996   veja fato fake entrevista anthony garotinho rjtv   \n",
       "4997                         queria ver sai causa lucas   \n",
       "4998  assassin s creed origins enfrentando irmaos ze...   \n",
       "4999  gnt conversava paramos acho mt engracado cara ...   \n",
       "\n",
       "                                                stemmer  \n",
       "0     apart vil marian prac monteir sant imud especi...  \n",
       "1                     quer x scout diz dou muit bal cag  \n",
       "2     analog correi esper d so falt receb duas lent ...  \n",
       "3       fest poss president stf toffol cant legia urban  \n",
       "4                                        flav tuit tamb  \n",
       "...                                                 ...  \n",
       "4995       nao nad dem apen verdad oh pront obrigadaaaa  \n",
       "4996           vej fat fak entrev anthony garotinh rjtv  \n",
       "4997                              quer ver sai caus luc  \n",
       "4998  assassin s creed origins enfrent irma ze ruel via  \n",
       "4999  gnt convers par acho mt engrac car kkkkk gnt t...  \n",
       "\n",
       "[5000 rows x 5 columns]"
      ]
     },
     "execution_count": 78,
     "metadata": {},
     "output_type": "execute_result"
    }
   ],
   "source": [
    "data_sub"
   ]
  },
  {
   "cell_type": "code",
   "execution_count": 79,
   "id": "3c4d9325",
   "metadata": {},
   "outputs": [],
   "source": [
    "# Criando o array para predição\n",
    "X1 = data_sub['stemmer']"
   ]
  },
  {
   "cell_type": "code",
   "execution_count": 80,
   "id": "f8a58ecb",
   "metadata": {},
   "outputs": [],
   "source": [
    "# Instanciando o modelo\n",
    "X_sub = tfidf.fit_transform(X1).todense()"
   ]
  },
  {
   "cell_type": "code",
   "execution_count": 81,
   "id": "3ca35b1b",
   "metadata": {},
   "outputs": [],
   "source": [
    "# Predizendo novos dados\n",
    "sub_pred = model_LR.predict(X_sub)"
   ]
  },
  {
   "cell_type": "code",
   "execution_count": 82,
   "id": "8d173bce",
   "metadata": {},
   "outputs": [],
   "source": [
    "# Adicionando a coluna predita\n",
    "data_sub[\"sentiment_predict\"] = sub_pred"
   ]
  },
  {
   "cell_type": "code",
   "execution_count": 83,
   "id": "0532774f",
   "metadata": {},
   "outputs": [
    {
     "data": {
      "text/html": [
       "<div>\n",
       "<style scoped>\n",
       "    .dataframe tbody tr th:only-of-type {\n",
       "        vertical-align: middle;\n",
       "    }\n",
       "\n",
       "    .dataframe tbody tr th {\n",
       "        vertical-align: top;\n",
       "    }\n",
       "\n",
       "    .dataframe thead th {\n",
       "        text-align: right;\n",
       "    }\n",
       "</style>\n",
       "<table border=\"1\" class=\"dataframe\">\n",
       "  <thead>\n",
       "    <tr style=\"text-align: right;\">\n",
       "      <th></th>\n",
       "      <th>id</th>\n",
       "      <th>tweet_text</th>\n",
       "      <th>filtered_words</th>\n",
       "      <th>join_words</th>\n",
       "      <th>stemmer</th>\n",
       "      <th>sentiment_predict</th>\n",
       "    </tr>\n",
       "  </thead>\n",
       "  <tbody>\n",
       "    <tr>\n",
       "      <th>0</th>\n",
       "      <td>1046764676707753987</td>\n",
       "      <td>Apartamento Vila Mariana Praça Monteiro dos Sa...</td>\n",
       "      <td>[apartamento, vila, mariana, praca, monteiro, ...</td>\n",
       "      <td>apartamento vila mariana praca monteiro santos...</td>\n",
       "      <td>apart vil marian prac monteir sant imud especi...</td>\n",
       "      <td>1</td>\n",
       "    </tr>\n",
       "    <tr>\n",
       "      <th>1</th>\n",
       "      <td>1047329264943751169</td>\n",
       "      <td>@FalleNCS @BrasilGameShow quero 1x1 de scout. ...</td>\n",
       "      <td>[quero, x, scout, dizem, dou, muita, bala, cag...</td>\n",
       "      <td>quero x scout dizem dou muita bala cagada</td>\n",
       "      <td>quer x scout diz dou muit bal cag</td>\n",
       "      <td>1</td>\n",
       "    </tr>\n",
       "    <tr>\n",
       "      <th>2</th>\n",
       "      <td>1045443874947313665</td>\n",
       "      <td>mais uma analógica no correio à minha espera :...</td>\n",
       "      <td>[analogica, correio, espera, d, so, falta, rec...</td>\n",
       "      <td>analogica correio espera d so falta receber du...</td>\n",
       "      <td>analog correi esper d so falt receb duas lent ...</td>\n",
       "      <td>2</td>\n",
       "    </tr>\n",
       "    <tr>\n",
       "      <th>3</th>\n",
       "      <td>1040484298711814144</td>\n",
       "      <td>Em festa de posse como presidente do STF, Toff...</td>\n",
       "      <td>[festa, posse, presidente, stf, toffoli, canta...</td>\n",
       "      <td>festa posse presidente stf toffoli canta legia...</td>\n",
       "      <td>fest poss president stf toffol cant legia urban</td>\n",
       "      <td>2</td>\n",
       "    </tr>\n",
       "    <tr>\n",
       "      <th>4</th>\n",
       "      <td>1045411876887306240</td>\n",
       "      <td>@thethiagor @jubsilva @GSCISA @GrupoMulheRIs A...</td>\n",
       "      <td>[flavia, tuiter, tambem]</td>\n",
       "      <td>flavia tuiter tambem</td>\n",
       "      <td>flav tuit tamb</td>\n",
       "      <td>2</td>\n",
       "    </tr>\n",
       "    <tr>\n",
       "      <th>...</th>\n",
       "      <td>...</td>\n",
       "      <td>...</td>\n",
       "      <td>...</td>\n",
       "      <td>...</td>\n",
       "      <td>...</td>\n",
       "      <td>...</td>\n",
       "    </tr>\n",
       "    <tr>\n",
       "      <th>4995</th>\n",
       "      <td>1049243861732794369</td>\n",
       "      <td>Não é nada demais , apenas a verdade :) — Oh.....</td>\n",
       "      <td>[nao, nada, demais, apenas, verdade, oh, pront...</td>\n",
       "      <td>nao nada demais apenas verdade oh pronto obrig...</td>\n",
       "      <td>nao nad dem apen verdad oh pront obrigadaaaa</td>\n",
       "      <td>2</td>\n",
       "    </tr>\n",
       "    <tr>\n",
       "      <th>4996</th>\n",
       "      <td>1039334757690163201</td>\n",
       "      <td>Veja o que é #FATO ou #FAKE na entrevista de A...</td>\n",
       "      <td>[veja, fato, fake, entrevista, anthony, garoti...</td>\n",
       "      <td>veja fato fake entrevista anthony garotinho rjtv</td>\n",
       "      <td>vej fat fak entrev anthony garotinh rjtv</td>\n",
       "      <td>1</td>\n",
       "    </tr>\n",
       "    <tr>\n",
       "      <th>4997</th>\n",
       "      <td>1049286902577356801</td>\n",
       "      <td>@nattvieiira de quem???? queria ver, eu sai po...</td>\n",
       "      <td>[queria, ver, sai, causa, lucas]</td>\n",
       "      <td>queria ver sai causa lucas</td>\n",
       "      <td>quer ver sai caus luc</td>\n",
       "      <td>1</td>\n",
       "    </tr>\n",
       "    <tr>\n",
       "      <th>4998</th>\n",
       "      <td>1045349300744671232</td>\n",
       "      <td>ASSASSIN'S CREED ORIGINS: ENFRENTANDO OS IRMÃO...</td>\n",
       "      <td>[assassin, s, creed, origins, enfrentando, irm...</td>\n",
       "      <td>assassin s creed origins enfrentando irmaos ze...</td>\n",
       "      <td>assassin s creed origins enfrent irma ze ruel via</td>\n",
       "      <td>1</td>\n",
       "    </tr>\n",
       "    <tr>\n",
       "      <th>4999</th>\n",
       "      <td>1046943420210659328</td>\n",
       "      <td>a gnt conversava muito mas paramos :( te acho ...</td>\n",
       "      <td>[gnt, conversava, paramos, acho, mt, engracado...</td>\n",
       "      <td>gnt conversava paramos acho mt engracado cara ...</td>\n",
       "      <td>gnt convers par acho mt engrac car kkkkk gnt t...</td>\n",
       "      <td>2</td>\n",
       "    </tr>\n",
       "  </tbody>\n",
       "</table>\n",
       "<p>5000 rows × 6 columns</p>\n",
       "</div>"
      ],
      "text/plain": [
       "                       id                                         tweet_text  \\\n",
       "0     1046764676707753987  Apartamento Vila Mariana Praça Monteiro dos Sa...   \n",
       "1     1047329264943751169  @FalleNCS @BrasilGameShow quero 1x1 de scout. ...   \n",
       "2     1045443874947313665  mais uma analógica no correio à minha espera :...   \n",
       "3     1040484298711814144  Em festa de posse como presidente do STF, Toff...   \n",
       "4     1045411876887306240  @thethiagor @jubsilva @GSCISA @GrupoMulheRIs A...   \n",
       "...                   ...                                                ...   \n",
       "4995  1049243861732794369  Não é nada demais , apenas a verdade :) — Oh.....   \n",
       "4996  1039334757690163201  Veja o que é #FATO ou #FAKE na entrevista de A...   \n",
       "4997  1049286902577356801  @nattvieiira de quem???? queria ver, eu sai po...   \n",
       "4998  1045349300744671232  ASSASSIN'S CREED ORIGINS: ENFRENTANDO OS IRMÃO...   \n",
       "4999  1046943420210659328  a gnt conversava muito mas paramos :( te acho ...   \n",
       "\n",
       "                                         filtered_words  \\\n",
       "0     [apartamento, vila, mariana, praca, monteiro, ...   \n",
       "1     [quero, x, scout, dizem, dou, muita, bala, cag...   \n",
       "2     [analogica, correio, espera, d, so, falta, rec...   \n",
       "3     [festa, posse, presidente, stf, toffoli, canta...   \n",
       "4                              [flavia, tuiter, tambem]   \n",
       "...                                                 ...   \n",
       "4995  [nao, nada, demais, apenas, verdade, oh, pront...   \n",
       "4996  [veja, fato, fake, entrevista, anthony, garoti...   \n",
       "4997                   [queria, ver, sai, causa, lucas]   \n",
       "4998  [assassin, s, creed, origins, enfrentando, irm...   \n",
       "4999  [gnt, conversava, paramos, acho, mt, engracado...   \n",
       "\n",
       "                                             join_words  \\\n",
       "0     apartamento vila mariana praca monteiro santos...   \n",
       "1             quero x scout dizem dou muita bala cagada   \n",
       "2     analogica correio espera d so falta receber du...   \n",
       "3     festa posse presidente stf toffoli canta legia...   \n",
       "4                                  flavia tuiter tambem   \n",
       "...                                                 ...   \n",
       "4995  nao nada demais apenas verdade oh pronto obrig...   \n",
       "4996   veja fato fake entrevista anthony garotinho rjtv   \n",
       "4997                         queria ver sai causa lucas   \n",
       "4998  assassin s creed origins enfrentando irmaos ze...   \n",
       "4999  gnt conversava paramos acho mt engracado cara ...   \n",
       "\n",
       "                                                stemmer  sentiment_predict  \n",
       "0     apart vil marian prac monteir sant imud especi...                  1  \n",
       "1                     quer x scout diz dou muit bal cag                  1  \n",
       "2     analog correi esper d so falt receb duas lent ...                  2  \n",
       "3       fest poss president stf toffol cant legia urban                  2  \n",
       "4                                        flav tuit tamb                  2  \n",
       "...                                                 ...                ...  \n",
       "4995       nao nad dem apen verdad oh pront obrigadaaaa                  2  \n",
       "4996           vej fat fak entrev anthony garotinh rjtv                  1  \n",
       "4997                              quer ver sai caus luc                  1  \n",
       "4998  assassin s creed origins enfrent irma ze ruel via                  1  \n",
       "4999  gnt convers par acho mt engrac car kkkkk gnt t...                  2  \n",
       "\n",
       "[5000 rows x 6 columns]"
      ]
     },
     "execution_count": 83,
     "metadata": {},
     "output_type": "execute_result"
    }
   ],
   "source": [
    "data_sub"
   ]
  },
  {
   "cell_type": "code",
   "execution_count": 88,
   "id": "5b15ae78",
   "metadata": {},
   "outputs": [],
   "source": [
    "# Gerando csv com as predições\n",
    "data_sub[['id', 'sentiment_predict']].to_csv('Ricardo_Passador_nlp_degree.csv', index=False)"
   ]
  },
  {
   "cell_type": "markdown",
   "id": "adb0c121",
   "metadata": {},
   "source": [
    "## Conclusões Finais\n",
    "\n"
   ]
  },
  {
   "cell_type": "markdown",
   "id": "3547d083",
   "metadata": {},
   "source": [
    "O estudo com NLP é muito interessante, embora dificil de lidar com as ferramentas, pois a maior dificuldade é com a generalização da escrita em Português (abreviações, simbologias, girias, etc) e as ferramentas especificas para a lingua portuguesa.\n",
    "Sendo como mais dificil, na minha opinião, o EDA do projeto.\n",
    "As ferramentas de Bag of Words (CountVectorizer e TF-IDF) bem como WORD2Vec e DOC2Vec, são muito interessantes, pois fazem a mágica da conversão textual para numerica, de forma que o computador possa interpretar, e isso realmente achei muito interessante.\n",
    "Os modelos são pacotes \"padrão\" que simplesmente recebem os dados e fazem a matemática acontecer, mas também fiquei muito surpreso com a assertividade, uma vez que os dados recebidos não são tão pautados em regras. Então a generalização dos modelos me surpreendeu.\n",
    "Enfim NLP é um assunto de muita profundidade, estudos e desenvolvimentos, pois é um campo muito rico para o vislumbre de insights através de expressões escritas."
   ]
  },
  {
   "cell_type": "code",
   "execution_count": null,
   "id": "8f682442",
   "metadata": {},
   "outputs": [],
   "source": []
  }
 ],
 "metadata": {
  "kernelspec": {
   "display_name": "Python 3",
   "language": "python",
   "name": "python3"
  },
  "language_info": {
   "codemirror_mode": {
    "name": "ipython",
    "version": 3
   },
   "file_extension": ".py",
   "mimetype": "text/x-python",
   "name": "python",
   "nbconvert_exporter": "python",
   "pygments_lexer": "ipython3",
   "version": "3.8.8"
  }
 },
 "nbformat": 4,
 "nbformat_minor": 5
}
